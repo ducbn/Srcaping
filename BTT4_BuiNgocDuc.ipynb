{
  "cells": [
    {
      "cell_type": "code",
      "execution_count": 2,
      "metadata": {
        "ExecuteTime": {
          "end_time": "2025-05-09T08:09:20.071616Z",
          "start_time": "2025-05-09T08:09:16.915574Z"
        },
        "colab": {
          "base_uri": "https://localhost:8080/"
        },
        "collapsed": true,
        "id": "O3j9ea53lOOf",
        "outputId": "6d9f81d7-4fab-4433-de25-ce8c366c8e95"
      },
      "outputs": [
        {
          "name": "stdout",
          "output_type": "stream",
          "text": [
            "Requirement already satisfied: beautifulsoup4 in /Library/Frameworks/Python.framework/Versions/3.13/lib/python3.13/site-packages (4.13.4)\n",
            "Requirement already satisfied: requests in /Library/Frameworks/Python.framework/Versions/3.13/lib/python3.13/site-packages (2.32.3)\n",
            "Requirement already satisfied: soupsieve>1.2 in /Library/Frameworks/Python.framework/Versions/3.13/lib/python3.13/site-packages (from beautifulsoup4) (2.7)\n",
            "Requirement already satisfied: typing-extensions>=4.0.0 in /Library/Frameworks/Python.framework/Versions/3.13/lib/python3.13/site-packages (from beautifulsoup4) (4.13.2)\n",
            "Requirement already satisfied: charset-normalizer<4,>=2 in /Library/Frameworks/Python.framework/Versions/3.13/lib/python3.13/site-packages (from requests) (3.4.2)\n",
            "Requirement already satisfied: idna<4,>=2.5 in /Library/Frameworks/Python.framework/Versions/3.13/lib/python3.13/site-packages (from requests) (3.10)\n",
            "Requirement already satisfied: urllib3<3,>=1.21.1 in /Library/Frameworks/Python.framework/Versions/3.13/lib/python3.13/site-packages (from requests) (2.4.0)\n",
            "Requirement already satisfied: certifi>=2017.4.17 in /Library/Frameworks/Python.framework/Versions/3.13/lib/python3.13/site-packages (from requests) (2025.4.26)\n",
            "Note: you may need to restart the kernel to use updated packages.\n",
            "Collecting underthesea\n",
            "  Using cached underthesea-6.8.4-py3-none-any.whl.metadata (15 kB)\n",
            "Collecting Click>=6.0 (from underthesea)\n",
            "  Using cached click-8.2.1-py3-none-any.whl.metadata (2.5 kB)\n",
            "Collecting python-crfsuite>=0.9.6 (from underthesea)\n",
            "  Using cached python_crfsuite-0.9.11-cp313-cp313-macosx_11_0_arm64.whl.metadata (4.3 kB)\n",
            "Collecting nltk (from underthesea)\n",
            "  Using cached nltk-3.9.1-py3-none-any.whl.metadata (2.9 kB)\n",
            "Collecting tqdm (from underthesea)\n",
            "  Using cached tqdm-4.67.1-py3-none-any.whl.metadata (57 kB)\n",
            "Requirement already satisfied: requests in /Library/Frameworks/Python.framework/Versions/3.13/lib/python3.13/site-packages (from underthesea) (2.32.3)\n",
            "Collecting joblib (from underthesea)\n",
            "  Using cached joblib-1.5.1-py3-none-any.whl.metadata (5.6 kB)\n",
            "Collecting scikit-learn (from underthesea)\n",
            "  Using cached scikit_learn-1.6.1-cp313-cp313-macosx_12_0_arm64.whl.metadata (31 kB)\n",
            "Collecting PyYAML (from underthesea)\n",
            "  Using cached PyYAML-6.0.2-cp313-cp313-macosx_11_0_arm64.whl.metadata (2.1 kB)\n",
            "Collecting underthesea-core==1.0.4 (from underthesea)\n",
            "  Using cached underthesea_core-1.0.4.tar.gz (560 kB)\n",
            "  Installing build dependencies ... \u001b[?25ldone\n",
            "\u001b[?25h  Getting requirements to build wheel ... \u001b[?25ldone\n",
            "\u001b[?25h\u001b[31mERROR: Exception:\n",
            "Traceback (most recent call last):\n",
            "  File \"/Library/Frameworks/Python.framework/Versions/3.13/lib/python3.13/site-packages/pip/_internal/cli/base_command.py\", line 105, in _run_wrapper\n",
            "    status = _inner_run()\n",
            "  File \"/Library/Frameworks/Python.framework/Versions/3.13/lib/python3.13/site-packages/pip/_internal/cli/base_command.py\", line 96, in _inner_run\n",
            "    return self.run(options, args)\n",
            "           ~~~~~~~~^^^^^^^^^^^^^^^\n",
            "  File \"/Library/Frameworks/Python.framework/Versions/3.13/lib/python3.13/site-packages/pip/_internal/cli/req_command.py\", line 68, in wrapper\n",
            "    return func(self, options, args)\n",
            "  File \"/Library/Frameworks/Python.framework/Versions/3.13/lib/python3.13/site-packages/pip/_internal/commands/install.py\", line 387, in run\n",
            "    requirement_set = resolver.resolve(\n",
            "        reqs, check_supported_wheels=not options.target_dir\n",
            "    )\n",
            "  File \"/Library/Frameworks/Python.framework/Versions/3.13/lib/python3.13/site-packages/pip/_internal/resolution/resolvelib/resolver.py\", line 96, in resolve\n",
            "    result = self._result = resolver.resolve(\n",
            "                            ~~~~~~~~~~~~~~~~^\n",
            "        collected.requirements, max_rounds=limit_how_complex_resolution_can_be\n",
            "        ^^^^^^^^^^^^^^^^^^^^^^^^^^^^^^^^^^^^^^^^^^^^^^^^^^^^^^^^^^^^^^^^^^^^^^\n",
            "    )\n",
            "    ^\n",
            "  File \"/Library/Frameworks/Python.framework/Versions/3.13/lib/python3.13/site-packages/pip/_vendor/resolvelib/resolvers/resolution.py\", line 515, in resolve\n",
            "    state = resolution.resolve(requirements, max_rounds=max_rounds)\n",
            "  File \"/Library/Frameworks/Python.framework/Versions/3.13/lib/python3.13/site-packages/pip/_vendor/resolvelib/resolvers/resolution.py\", line 444, in resolve\n",
            "    failure_criterion = self._attempt_to_pin_criterion(name)\n",
            "  File \"/Library/Frameworks/Python.framework/Versions/3.13/lib/python3.13/site-packages/pip/_vendor/resolvelib/resolvers/resolution.py\", line 211, in _attempt_to_pin_criterion\n",
            "    criteria = self._get_updated_criteria(candidate)\n",
            "  File \"/Library/Frameworks/Python.framework/Versions/3.13/lib/python3.13/site-packages/pip/_vendor/resolvelib/resolvers/resolution.py\", line 202, in _get_updated_criteria\n",
            "    self._add_to_criteria(criteria, requirement, parent=candidate)\n",
            "    ~~~~~~~~~~~~~~~~~~~~~^^^^^^^^^^^^^^^^^^^^^^^^^^^^^^^^^^^^^^^^^\n",
            "  File \"/Library/Frameworks/Python.framework/Versions/3.13/lib/python3.13/site-packages/pip/_vendor/resolvelib/resolvers/resolution.py\", line 141, in _add_to_criteria\n",
            "    if not criterion.candidates:\n",
            "           ^^^^^^^^^^^^^^^^^^^^\n",
            "  File \"/Library/Frameworks/Python.framework/Versions/3.13/lib/python3.13/site-packages/pip/_vendor/resolvelib/structs.py\", line 194, in __bool__\n",
            "    return bool(self._sequence)\n",
            "  File \"/Library/Frameworks/Python.framework/Versions/3.13/lib/python3.13/site-packages/pip/_internal/resolution/resolvelib/found_candidates.py\", line 163, in __bool__\n",
            "    self._bool = any(self)\n",
            "                 ~~~^^^^^^\n",
            "  File \"/Library/Frameworks/Python.framework/Versions/3.13/lib/python3.13/site-packages/pip/_internal/resolution/resolvelib/found_candidates.py\", line 147, in <genexpr>\n",
            "    return (c for c in iterator if id(c) not in self._incompatible_ids)\n",
            "                       ^^^^^^^^\n",
            "  File \"/Library/Frameworks/Python.framework/Versions/3.13/lib/python3.13/site-packages/pip/_internal/resolution/resolvelib/found_candidates.py\", line 37, in _iter_built\n",
            "    candidate = func()\n",
            "  File \"/Library/Frameworks/Python.framework/Versions/3.13/lib/python3.13/site-packages/pip/_internal/resolution/resolvelib/factory.py\", line 187, in _make_candidate_from_link\n",
            "    base: Optional[BaseCandidate] = self._make_base_candidate_from_link(\n",
            "                                    ~~~~~~~~~~~~~~~~~~~~~~~~~~~~~~~~~~~^\n",
            "        link, template, name, version\n",
            "        ^^^^^^^^^^^^^^^^^^^^^^^^^^^^^\n",
            "    )\n",
            "    ^\n",
            "  File \"/Library/Frameworks/Python.framework/Versions/3.13/lib/python3.13/site-packages/pip/_internal/resolution/resolvelib/factory.py\", line 233, in _make_base_candidate_from_link\n",
            "    self._link_candidate_cache[link] = LinkCandidate(\n",
            "                                       ~~~~~~~~~~~~~^\n",
            "        link,\n",
            "        ^^^^^\n",
            "    ...<3 lines>...\n",
            "        version=version,\n",
            "        ^^^^^^^^^^^^^^^^\n",
            "    )\n",
            "    ^\n",
            "  File \"/Library/Frameworks/Python.framework/Versions/3.13/lib/python3.13/site-packages/pip/_internal/resolution/resolvelib/candidates.py\", line 306, in __init__\n",
            "    super().__init__(\n",
            "    ~~~~~~~~~~~~~~~~^\n",
            "        link=link,\n",
            "        ^^^^^^^^^^\n",
            "    ...<4 lines>...\n",
            "        version=version,\n",
            "        ^^^^^^^^^^^^^^^^\n",
            "    )\n",
            "    ^\n",
            "  File \"/Library/Frameworks/Python.framework/Versions/3.13/lib/python3.13/site-packages/pip/_internal/resolution/resolvelib/candidates.py\", line 159, in __init__\n",
            "    self.dist = self._prepare()\n",
            "                ~~~~~~~~~~~~~^^\n",
            "  File \"/Library/Frameworks/Python.framework/Versions/3.13/lib/python3.13/site-packages/pip/_internal/resolution/resolvelib/candidates.py\", line 236, in _prepare\n",
            "    dist = self._prepare_distribution()\n",
            "  File \"/Library/Frameworks/Python.framework/Versions/3.13/lib/python3.13/site-packages/pip/_internal/resolution/resolvelib/candidates.py\", line 317, in _prepare_distribution\n",
            "    return preparer.prepare_linked_requirement(self._ireq, parallel_builds=True)\n",
            "           ~~~~~~~~~~~~~~~~~~~~~~~~~~~~~~~~~~~^^^^^^^^^^^^^^^^^^^^^^^^^^^^^^^^^^\n",
            "  File \"/Library/Frameworks/Python.framework/Versions/3.13/lib/python3.13/site-packages/pip/_internal/operations/prepare.py\", line 532, in prepare_linked_requirement\n",
            "    return self._prepare_linked_requirement(req, parallel_builds)\n",
            "           ~~~~~~~~~~~~~~~~~~~~~~~~~~~~~~~~^^^^^^^^^^^^^^^^^^^^^^\n",
            "  File \"/Library/Frameworks/Python.framework/Versions/3.13/lib/python3.13/site-packages/pip/_internal/operations/prepare.py\", line 647, in _prepare_linked_requirement\n",
            "    dist = _get_prepared_distribution(\n",
            "        req,\n",
            "    ...<3 lines>...\n",
            "        self.check_build_deps,\n",
            "    )\n",
            "  File \"/Library/Frameworks/Python.framework/Versions/3.13/lib/python3.13/site-packages/pip/_internal/operations/prepare.py\", line 71, in _get_prepared_distribution\n",
            "    abstract_dist.prepare_distribution_metadata(\n",
            "    ~~~~~~~~~~~~~~~~~~~~~~~~~~~~~~~~~~~~~~~~~~~^\n",
            "        finder, build_isolation, check_build_deps\n",
            "        ^^^^^^^^^^^^^^^^^^^^^^^^^^^^^^^^^^^^^^^^^\n",
            "    )\n",
            "    ^\n",
            "  File \"/Library/Frameworks/Python.framework/Versions/3.13/lib/python3.13/site-packages/pip/_internal/distributions/sdist.py\", line 56, in prepare_distribution_metadata\n",
            "    self._install_build_reqs(finder)\n",
            "    ~~~~~~~~~~~~~~~~~~~~~~~~^^^^^^^^\n",
            "  File \"/Library/Frameworks/Python.framework/Versions/3.13/lib/python3.13/site-packages/pip/_internal/distributions/sdist.py\", line 126, in _install_build_reqs\n",
            "    build_reqs = self._get_build_requires_wheel()\n",
            "  File \"/Library/Frameworks/Python.framework/Versions/3.13/lib/python3.13/site-packages/pip/_internal/distributions/sdist.py\", line 103, in _get_build_requires_wheel\n",
            "    return backend.get_requires_for_build_wheel()\n",
            "           ~~~~~~~~~~~~~~~~~~~~~~~~~~~~~~~~~~~~^^\n",
            "  File \"/Library/Frameworks/Python.framework/Versions/3.13/lib/python3.13/site-packages/pip/_internal/utils/misc.py\", line 702, in get_requires_for_build_wheel\n",
            "    return super().get_requires_for_build_wheel(config_settings=cs)\n",
            "           ~~~~~~~~~~~~~~~~~~~~~~~~~~~~~~~~~~~~^^^^^^^^^^^^^^^^^^^^\n",
            "  File \"/Library/Frameworks/Python.framework/Versions/3.13/lib/python3.13/site-packages/pip/_vendor/pyproject_hooks/_impl.py\", line 196, in get_requires_for_build_wheel\n",
            "    return self._call_hook(\n",
            "           ~~~~~~~~~~~~~~~^\n",
            "        \"get_requires_for_build_wheel\", {\"config_settings\": config_settings}\n",
            "        ^^^^^^^^^^^^^^^^^^^^^^^^^^^^^^^^^^^^^^^^^^^^^^^^^^^^^^^^^^^^^^^^^^^^\n",
            "    )\n",
            "    ^\n",
            "  File \"/Library/Frameworks/Python.framework/Versions/3.13/lib/python3.13/site-packages/pip/_vendor/pyproject_hooks/_impl.py\", line 402, in _call_hook\n",
            "    raise BackendUnavailable(\n",
            "    ...<4 lines>...\n",
            "    )\n",
            "pip._vendor.pyproject_hooks._impl.BackendUnavailable: Cannot import 'maturin'\u001b[0m\u001b[31m\n",
            "\u001b[0mNote: you may need to restart the kernel to use updated packages.\n"
          ]
        }
      ],
      "source": [
        "%pip install beautifulsoup4 requests\n",
        "%pip install underthesea\n"
      ]
    },
    {
      "cell_type": "code",
      "execution_count": 4,
      "metadata": {
        "ExecuteTime": {
          "end_time": "2025-05-09T08:09:56.032602Z",
          "start_time": "2025-05-09T08:09:54.778686Z"
        },
        "colab": {
          "base_uri": "https://localhost:8080/"
        },
        "collapsed": true,
        "id": "uEQYMygghX_e",
        "outputId": "2bba4f45-6788-4020-8377-893d12987d23"
      },
      "outputs": [
        {
          "data": {
            "text/plain": [
              "['https://vietnamnet.vn/quang-ngai-san-sang-don-nguyen-chu-tich-nuoc-tran-duc-luong-ve-voi-dat-me-2404437.html',\n",
              " 'https://vietnamnet.vn/ong-tran-tuan-anh-ba-da-song-mot-doi-tron-ven-nghia-tinh-2404535.html',\n",
              " 'https://vietnamnet.vn/tuyen-nguoi-tai-bang-bien-che-cong-chuc-hay-ky-hop-dong-luong-cao-2403301.html',\n",
              " 'https://vietnamnet.vn/thu-tuong-pham-minh-chinh-toi-kuala-lumpur-bat-dau-tham-malaysia-2404579.html',\n",
              " 'https://vietnamnet.vn/le-truy-dieu-nguyen-chu-tich-nuoc-tran-duc-luong-2404485.html',\n",
              " 'https://vietnamnet.vn/ly-do-tong-thong-phap-tham-viet-nam-dau-tien-trong-chuyen-cong-du-dong-nam-a-2404344.html',\n",
              " 'https://vietnamnet.vn/chu-tich-nuoc-ong-tran-duc-luong-la-tam-guong-sang-tan-tuy-vi-nuoc-vi-dan-2404593.html',\n",
              " 'https://vietnamnet.vn/bo-noi-vu-can-som-tham-muu-de-55-tri-thuc-tre-khong-bi-tinh-gian-khi-sap-nhap-xa-2403939.html',\n",
              " 'https://vietnamnet.vn/khanh-hoa-dieu-dong-15-lanh-dao-cap-so-ve-xa-sau-sap-nhap-hanh-chinh-2404349.html',\n",
              " 'https://vietnamnet.vn/dai-bieu-quoc-hoi-thanh-hoa-lua-dao-vao-tan-nha-lua-me-toi-400-nghin-tien-rac-2404041.html',\n",
              " 'https://vietnamnet.vn/lanh-dao-dai-su-cac-nuoc-vieng-nguyen-chu-tich-nuoc-tran-duc-luong-2404451.html',\n",
              " 'https://vietnamnet.vn/nho-mai-hinh-anh-vi-nguyen-thu-quoc-gia-buoc-di-giua-vung-que-ngheo-quang-ngai-2404338.html',\n",
              " 'https://vietnamnet.vn/le-quoc-tang-nguyen-chu-tich-nuoc-tran-duc-luong-2404247.html',\n",
              " 'https://vietnamnet.vn/su-kien-tuyet-voi-ma-tong-thong-phap-noi-voi-chu-tich-nuoc-tran-duc-luong-2404089.html',\n",
              " 'https://vietnamnet.vn/bi-thu-huyen-xuong-lam-bi-thu-xa-kho-tranh-khoi-tam-tu-2404172.html',\n",
              " 'https://vietnamnet.vn/tong-cong-trinh-su-ve-vu-khi-co-the-nhan-luong-hon-200-trieu-moi-thang-2404216.html',\n",
              " 'https://vietnamnet.vn/thu-tuong-bieu-duong-bo-cong-an-cong-thuong-4-tinh-thanh-trong-xu-ly-hang-gia-2404412.html',\n",
              " 'https://vietnamnet.vn/nha-o-xa-hoi-25-trieu-m2-thu-nhap-duoi-15-trieu-dong-thang-rat-kho-mua-2404405.html',\n",
              " 'https://vietnamnet.vn/nhung-loi-tiec-thuong-sau-sac-trong-so-tang-nguyen-chu-tich-nuoc-tran-duc-luong-2404295.html',\n",
              " 'https://vietnamnet.vn/thu-tuong-no-luc-dam-phan-de-som-dat-thoa-thuan-voi-my-2404383.html',\n",
              " 'https://vietnamnet.vn/cho-phep-mua-ban-du-lieu-ca-nhan-la-cho-phep-mua-ban-quyen-con-nguoi-2404374.html',\n",
              " 'https://vietnamnet.vn/cac-toa-nha-dong-loat-treo-co-ru-tuong-niem-nguyen-chu-tich-nuoc-tran-duc-luong-2404342.html',\n",
              " 'https://vietnamnet.vn/nho-ngay-anh-tran-duc-luong-goi-toi-sang-lam-tro-ly-2403977.html',\n",
              " 'https://vietnamnet.vn/chu-tich-nuoc-tran-duc-luong-ve-tham-que-don-gian-the-2403863.html',\n",
              " 'https://vietnamnet.vn/de-xuat-quy-dinh-trinh-tu-thu-tuc-bat-nguoi-trong-truong-hop-khan-cap-de-dan-do-2404312.html']"
            ]
          },
          "execution_count": 4,
          "metadata": {},
          "output_type": "execute_result"
        }
      ],
      "source": [
        "import requests\n",
        "from bs4 import BeautifulSoup\n",
        "\n",
        "base_url = \"https://vietnamnet.vn/chinh-tri\"\n",
        "\n",
        "list_link = []\n",
        "# B1: Lấy html content từ base_url\n",
        "response = requests.get(base_url)\n",
        "if response.status_code == 200:\n",
        "  html_content = response.text\n",
        "  soup = BeautifulSoup(html_content, 'html.parser')\n",
        "  # print(soup.prettify())\n",
        "  divs = soup.find_all(\"div\", class_=\"horizontalPost__avt avt-240\")\n",
        "  for div in divs:\n",
        "    a = div.find(\"a\")\n",
        "    link = \"https://vietnamnet.vn\" + a['href']\n",
        "    list_link.append(link)\n",
        "    # print(link)\n",
        "    # print(a['href'])\n",
        "  # print(f\"lengh of element {len(divs)}\")\n",
        "  # print(divs[0].prettify())\n",
        "else:\n",
        "  print(f\"Lỗi {response.status_code}\")\n",
        "\n",
        "list_link"
      ]
    },
    {
      "cell_type": "code",
      "execution_count": null,
      "metadata": {
        "ExecuteTime": {
          "end_time": "2025-05-09T08:04:47.092817Z",
          "start_time": "2025-05-09T08:04:44.692074Z"
        },
        "colab": {
          "base_uri": "https://localhost:8080/"
        },
        "id": "kjAhp68Zh2Pt",
        "outputId": "0e8fb2e3-1749-417a-c3db-73dc08add378"
      },
      "outputs": [
        {
          "data": {
            "text/plain": [
              "('Nhớ mãi hình ảnh vị nguyên thủ quốc gia bước đi giữa vùng quê nghèo Quảng Ngãi',\n",
              " 'Nguyên Chủ tịch nước Trần Đức Lương sinh năm 1937, tại xã Phổ Khánh (nay thuộc thị xã Đức Phổ, tỉnh Quảng Ngãi) - một vùng đất giàu truyền thống cách mạng.\\nTừ một cán bộ địa chất, ông từng bước đảm nhiệm nhiều cương vị quan trọng, trở thành Phó Thủ tướng rồi Chủ tịch nước ở giai đoạn đất nước chuyển mình mạnh mẽ trong công cuộc đổi mới và hội nhập.\\nLuôn gần gũi và lo cho dân\\nTrên cương vị cao nhất của nhà nước, ông vẫn giữ vẹn nguyên sự khiêm nhường, gần gũi. Những lần trở về quê hương, ông không xuất hiện với vẻ ngoài của một nguyên thủ mà là hình ảnh của người con xa quê luôn đau đáu với đất mẹ, lặng lẽ sẻ chia với bà con những điều giản dị mà thấu đáo, chân thành.\\nNăm 1995, khi về thăm quê trong cương vị Phó Thủ tướng, biết vợ chồng thương binh Phạm Văn Nuôi ở thôn Diên Trường (xã Phổ Khánh) đang chật vật vì không có nhà ở, ông lập tức chỉ đạo các cấp hỗ trợ xây nhà tình nghĩa.\\nChỉ một năm sau, ngôi nhà nhỏ được dựng lên từ số tiền 15 triệu đồng. Với vợ chồng ông Nuôi, đây không chỉ là mái ấm mà là kỷ niệm không quên về tấm lòng của một người lãnh đạo biết lắng nghe và hành động vì dân.\\n“Nhờ sự quan tâm, chỉ đạo của bác Trần Đức Lương mà gia đình tôi đã có được ngôi nhà khang trang, vững chắc để sinh sống” - ông Nuôi tâm sự.\\nNăm 2021, khi tuổi đã cao, nguyên Chủ tịch nước Trần Đức Lương không còn về quê thường xuyên được, nhưng tấm lòng ông vẫn hướng về đất mẹ. Gia đình ông đã trao tặng 500 triệu đồng để xây 10 căn nhà tình nghĩa, đồng thời vận động thêm 500 triệu đồng từ doanh nghiệp cho công việc này. Với những hộ gia đình chính sách, đó là món quà không chỉ mang giá trị vật chất mà còn là sự an ủi lớn lao.\\nBà Nguyễn Thị Thu là thương binh 4/4 nghẹn ngào kể:“Hồi đó, nhà tôi cũ nát, mưa là dột, gió là lo. Nhờ gia đình nguyên Chủ tịch nước Trần Đức Lương hỗ trợ mà vợ chồng tôi có nhà mới kiên cố, yên tâm sống qua mùa bão. Tôi mang ơn cả đời”.\\nKhông chỉ ở Phổ Khánh, người dân thôn Gò Ra (xã Sơn Thành, huyện Sơn Hà) - nơi phần lớn là đồng bào dân tộc thiểu số - vẫn nhắc mãi chuyến thăm của vị nguyên thủ quốc gia vào năm 2003. Họ nhớ mãi hình ảnh ông bước đi giữa vùng quê nghèo, bắt tay từng người, hỏi han từng chuyện nhỏ. Với bà con, đó không đơn thuần là một chuyến công tác mà là sự hiện diện của tình thương, của niềm tin vào sự đổi thay.\\nÔng Đinh Văn Hời - nguyên Bí thư, Chủ tịch xã Sơn Thành - vẫn nhớ như in ngày \"bác Trần Đức Lương\" đến với vùng đất còn nhiều gian khó.\\n“Bác đến nơi xa xôi, đường sá khi đó còn khó khăn lắm. Bác Lương giản dị và gần gũi, hỏi bà con ăn ở ra sao, sống có đủ no ấm không…” - ông Hời xúc động kể.\\n\"Khi hay tin bác từ trần, người dân nơi đây không giấu được sự tiếc thương. Bác là người luôn trăn trở với cuộc sống đồng bào vùng sâu, vùng xa. Bác từng chỉ đạo phải quan tâm giúp người dân thoát nghèo. Những tình cảm ấy, chúng tôi không bao giờ quên” - ông Hời nghẹn ngào nói.\\nNgười lãnh đạo tận tụy, khiêm nhường\\nNhững năm gần đây, mỗi khi về quê vào dịp Tết, ông Trần Đức Lương vẫn chúc Tết Đảng bộ, thăm hỏi bà con. Ông luôn căn dặn lãnh đạo địa phương phải gần dân, sát dân, giữ lấy gốc rễ truyền thống.\\nBí thư Thị ủy Đức Phổ Đỗ Tâm Hiển cho biết: “Khi hay tin nguyên Chủ tịch nước Trần Đức Lương từ trần, bà con địa phương vô cùng đau buồn. Ông không chỉ là niềm tự hào của quê hương, mà còn là người luôn dõi theo, giúp đỡ chúng tôi trong mọi chặng đường phát triển”.\\nLặng lẽ đến viếng tang nguyên Chủ tịch nước Trần Đức Lương tại Nhà khách T50, Bộ Chỉ huy Quân sự tỉnh Quảng Ngãi, ông Phạm Đình Khối - nguyên Bí thư Tỉnh ủy Quảng Ngãi - xúc động kể: \"Mỗi lần bác Trần Đức Lương trở về Quảng Ngãi đều để lại một dấu ấn sâu sắc. Đó không chỉ là tình cảm gắn bó với quê hương, mà còn là trách nhiệm, là những lời dặn dò về con đường phát triển kinh tế - xã hội của tỉnh, đặc biệt nhấn mạnh đến việc phát huy truyền thống đoàn kết trong Đảng bộ và nhân dân\".\\n“Bác Lương luôn cụ thể trong từng chuyến đi, từng cuộc làm việc. Trong phát triển kinh tế, bác dặn phải chú trọng công tác quy hoạch, quan tâm môi trường, và nhất là đời sống người dân. Những điều bác nói đều có tính chiến lược và sát thực tiễn.\\nKhông chỉ tôi, mà nhiều thế hệ cán bộ lãnh đạo của tỉnh, cả những người đã nghỉ hưu lẫn đương nhiệm đều luôn nhắc đến bác với sự trân quý, tự hào. Với chúng tôi, bác như một tấm gương để soi chiếu lại mình, để sống và cống hiến cho quê hương” - ông Khối chia sẻ.\\nVới người dân Quảng Ngãi, dù nguyên Chủ tịch nước Trần Đức Lương đã yên nghỉ nhưng hình ảnh của ông - một người lãnh đạo tận tụy, khiêm nhường, gần dân vẫn còn mãi.')"
            ]
          },
          "execution_count": 3,
          "metadata": {},
          "output_type": "execute_result"
        }
      ],
      "source": [
        "import requests\n",
        "from bs4 import BeautifulSoup\n",
        "\n",
        "def get_content(link: str):\n",
        "    # B1: Gửi yêu cầu HTTP và lấy HTML\n",
        "    response = requests.get(link)\n",
        "    html = response.text\n",
        "\n",
        "    # B2: Tạo đối tượng BeautifulSoup để phân tích HTML\n",
        "    soup = BeautifulSoup(html, 'html.parser')\n",
        "\n",
        "    # B3: Lấy tiêu đề bài viết\n",
        "    title_tag = soup.find('h1', class_=\"content-detail-title\")\n",
        "    title = title_tag.get_text(strip=True) if title_tag else \"No title found\"\n",
        "\n",
        "    # B4: Lấy nội dung bài viết trong thẻ div có id=\"maincontent\"\n",
        "    content_div = soup.find('div', id='maincontent')\n",
        "\n",
        "    # B4.1: Trích xuất tất cả các thẻ <p> trong thẻ div trên\n",
        "    paragraphs = content_div.find_all('p') if content_div else []\n",
        "\n",
        "    # B4.2: Nối nội dung các thẻ <p> lại thành một chuỗi\n",
        "    contents = [p.get_text(strip=True) for p in paragraphs]\n",
        "    content = '\\n'.join(contents)\n",
        "\n",
        "    # B5: Trả về tiêu đề và nội dung\n",
        "    return title, content\n",
        "\n",
        "# Ví dụ:\n",
        "# title, content = get_content(list_link[0])\n",
        "# print(\"Tiêu đề:\", title)\n",
        "# print(\"Nội dung:\", content)\n",
        "\n",
        "\n",
        "\n",
        "get_content(list_link[0])\n",
        "\n"
      ]
    },
    {
      "cell_type": "code",
      "execution_count": null,
      "metadata": {
        "id": "Z9ONSVZmh92Z"
      },
      "outputs": [],
      "source": [
        "# Step 2.2: Làm sạch dữ liệu: cleaning(text) --> text\n",
        "# - Xoá ký tự đặc biệt\n",
        "# - Xoá khoảng trắng thừa\n",
        "# - Viết hoa đầu câu, các ký tự khác viết thường hoàn toàn (Dự trên sentence tokenize)\n",
        "# usage\n",
        "import re\n",
        "from underthesea import sent_tokenize\n",
        "\n",
        "def cleaning(text):\n",
        "    # Bước 1: Xoá ký tự đặc biệt (chỉ giữ chữ cái, số, dấu câu)\n",
        "    text = re.sub(r\"[^a-zA-Z0-9À-ỹàáạảãăắằẳẵặâấầẩẫậèéẹẻẽêếềểễệ\"\n",
        "                  r\"ìíịỉĩòóọỏõôốồổỗộơớờởỡợùúụủũưứừửữựỳýỵỷỹ\"\n",
        "                  r\"đĐ\\s.!?]\", \" \", text)\n",
        "\n",
        "    # Bước 2: Xoá khoảng trắng thừa\n",
        "    text = re.sub(r'\\s+', ' ', text).strip()\n",
        "\n",
        "    # Bước 3: Tách câu & viết hoa đầu câu, phần còn lại viết thường\n",
        "    sentences = sent_tokenize(text)\n",
        "    cleaned_sentences = []\n",
        "    for s in sentences:\n",
        "        s = s.strip().lower()\n",
        "        if s:\n",
        "            s = s[0].upper() + s[1:]\n",
        "            cleaned_sentences.append(s)\n",
        "    return ' '.join(cleaned_sentences)\n",
        "\n",
        "\n"
      ]
    },
    {
      "cell_type": "code",
      "execution_count": null,
      "metadata": {
        "colab": {
          "base_uri": "https://localhost:8080/"
        },
        "collapsed": true,
        "id": "lbqA56bLi0J5",
        "outputId": "10fbfad8-7643-42e8-9576-2c73edf473dd"
      },
      "outputs": [
        {
          "name": "stdout",
          "output_type": "stream",
          "text": [
            "✓ Lấy xong: Nhớ mãi hình ảnh vị nguyên thủ quốc gia bước đi giữa vùng quê nghèo Quảng Ngãi\n",
            "✓ Lấy xong: Nguyên Chủ tịch nước Trần Đức Lương và sự kiện 'tuyệt vời' của Tổng thống Chirac\n",
            "✓ Lấy xong: Đại biểu Quốc hội Thanh Hóa: Lừa đảo vào tận nhà, lừa mẹ tôi 400 nghìn tiền rác\n",
            "✓ Lấy xong: Thủ tướng: Nỗ lực đàm phán để sớm đạt thỏa thuận với Mỹ\n",
            "✓ Lấy xong: Những lời tiếc thương sâu sắc trong sổ tang nguyên Chủ tịch nước Trần Đức Lương\n",
            "✓ Lấy xong: Bộ trưởng Công an: Cho phép mua bán dữ liệu cá nhân là cho phép mua bán quyền con người\n",
            "✓ Lấy xong: Đề xuất quy định trình tự, thủ tục bắt người trong trường hợp khẩn cấp để dẫn độ\n",
            "✓ Lấy xong: Tổng công trình sư về vũ khí có thể nhận lương hơn 200 triệu mỗi tháng\n",
            "✓ Lấy xong: Bộ Nội vụ cần sớm tham mưu để 55 trí thức trẻ không bị tinh giản khi sáp nhập xã\n",
            "✓ Lấy xong: Bài viết của Thủ tướng Phạm Minh Chính về nguyên Chủ tịch nước Trần Đức Lương\n",
            "✓ Lấy xong: Điểm đặc biệt của Bí thư, Chủ tịch 3 tỉnh Lâm Đồng, Bình Thuận và Đắk Nông\n",
            "✓ Lấy xong: Không mang vòng hoa khi viếng nguyên Chủ tịch nước Trần Đức Lương ở Quảng Ngãi\n",
            "✓ Lấy xong: Quốc hội sẽ chất vấn Bộ trưởng Tài chính, Bộ Giáo dục và Đào tạo\n",
            "✓ Lấy xong: 'Chủ tịch nước Trần Đức Lương về thăm quê đơn giản thế?'\n",
            "✓ Lấy xong: 'Nhớ ngày anh Trần Đức Lương gọi tôi sang làm trợ lý'\n",
            "✓ Lấy xong: Thủ tướng Phạm Minh Chính và Phu nhân sắp thăm Malaysia\n",
            "✓ Lấy xong: Ông Ngô Văn Cương làm Phó Bí thư chuyên trách Đảng ủy MTTQ, các đoàn thể TƯ\n",
            "✓ Lấy xong: Tổng thống Hungary và Phu nhân sắp thăm Việt Nam\n",
            "✓ Lấy xong: Địa bàn rộng hơn khi sáp nhập tỉnh, xã thì quản lý dạy thêm, học thêm thế nào?\n",
            "✓ Lấy xong: Bộ Chính trị quy định về thu hồi tài sản tham nhũng, lãng phí, tiêu cực\n",
            "✓ Lấy xong: Thủ tướng: Chấp nhận sự mất mát, coi đó là học phí\n",
            "✓ Lấy xong: Mới thấy 'bóng dáng' đoàn kiểm tra, cả chợ hàng giả đã đồng loạt đóng cửa\n",
            "✓ Lấy xong: Thứ trưởng Nội vụ làm Chủ tịch Hội đồng tiền lương quốc gia\n",
            "\n",
            "✅ Đã lưu 23 bài viết vào file corpus.csv\n"
          ]
        }
      ],
      "source": [
        "import pandas as pd\n",
        "import time\n",
        "\n",
        "data = []\n",
        "\n",
        "for url in list_link:\n",
        "    try:\n",
        "        title, content = get_content(url)\n",
        "        if title and content:\n",
        "            content_clean = cleaning(content)\n",
        "            data.append({\n",
        "                'title': title,\n",
        "                'content': content_clean,\n",
        "                'url': url\n",
        "            })\n",
        "            print(f\"✓ Lấy xong: {title}\")\n",
        "        time.sleep(0.5)  # nghỉ một chút tránh bị chặn\n",
        "    except Exception as e:\n",
        "        print(f\"✗ Lỗi ở link: {url} | {e}\")\n",
        "\n",
        "# Chuyển về DataFrame\n",
        "df = pd.DataFrame(data)\n",
        "\n",
        "# Lưu ra file corpus.csv\n",
        "df.to_csv('corpus.csv', index=False, encoding='utf-8-sig')\n",
        "\n",
        "print(f\"\\n✅ Đã lưu {len(df)} bài viết vào file corpus.csv\")\n"
      ]
    },
    {
      "cell_type": "code",
      "execution_count": null,
      "metadata": {
        "colab": {
          "base_uri": "https://localhost:8080/"
        },
        "id": "d3UP-1pgjB6y",
        "outputId": "5351685c-32b3-4dab-c84b-16b18f01310c"
      },
      "outputs": [
        {
          "name": "stdout",
          "output_type": "stream",
          "text": [
            "Đã tạo danh sách docs với 23 tài liệu.\n",
            "Nhớ mãi hình ảnh vị nguyên thủ quốc gia bước đi giữa vùng quê nghèo Quảng Ngãi. Nguyên chủ tịch nước trần đức lương sinh năm 1937 tại xã phổ khánh nay thuộc thị xã đức phổ tỉnh quảng ngãi một vùng đất giàu truyền thống cách mạng. Từ một cán bộ địa chất ông từng bước đảm nhiệm nhiều cương vị quan trọng trở thành phó thủ tướng rồi chủ tịch nước ở giai đoạn đất nước chuyển mình mạnh mẽ trong công cuộc đổi mới và hội nhập. Luôn gần gũi và lo cho dân trên cương vị cao nhất của nhà nước ông vẫn giữ vẹ\n"
          ]
        }
      ],
      "source": [
        "# Step 4: Load lại file copus.csv\n",
        "# nối title và content của từng bài thành 1 biến doc\n",
        "# thu được 1 list tên là docs = [doc1, doc2,...]\n",
        "\n",
        "import pandas as pd\n",
        "\n",
        "# Load file corpus.csv\n",
        "df = pd.read_csv('corpus.csv', encoding='utf-8-sig')\n",
        "\n",
        "# Nối title và content thành 1 biến doc cho mỗi dòng\n",
        "df['doc'] = df['title'] + '. ' + df['content']\n",
        "\n",
        "# Tạo danh sách docs\n",
        "docs = df['doc'].tolist()\n",
        "\n",
        "print(f\"Đã tạo danh sách docs với {len(docs)} tài liệu.\")\n",
        "# In ra ví dụ 1 doc đầu tiên\n",
        "print(docs[0][:500])  # in 500 ký tự đầu để xem\n"
      ]
    },
    {
      "cell_type": "code",
      "execution_count": null,
      "metadata": {
        "colab": {
          "base_uri": "https://localhost:8080/"
        },
        "collapsed": true,
        "id": "UE4Bm7oD9LzH",
        "outputId": "9a40c077-ea82-410f-e05b-471abdedffcd"
      },
      "outputs": [
        {
          "name": "stdout",
          "output_type": "stream",
          "text": [
            "Requirement already satisfied: tokenizers in /usr/local/lib/python3.11/dist-packages (0.21.1)\n",
            "Requirement already satisfied: huggingface-hub<1.0,>=0.16.4 in /usr/local/lib/python3.11/dist-packages (from tokenizers) (0.31.2)\n",
            "Requirement already satisfied: filelock in /usr/local/lib/python3.11/dist-packages (from huggingface-hub<1.0,>=0.16.4->tokenizers) (3.18.0)\n",
            "Requirement already satisfied: fsspec>=2023.5.0 in /usr/local/lib/python3.11/dist-packages (from huggingface-hub<1.0,>=0.16.4->tokenizers) (2025.3.2)\n",
            "Requirement already satisfied: packaging>=20.9 in /usr/local/lib/python3.11/dist-packages (from huggingface-hub<1.0,>=0.16.4->tokenizers) (24.2)\n",
            "Requirement already satisfied: pyyaml>=5.1 in /usr/local/lib/python3.11/dist-packages (from huggingface-hub<1.0,>=0.16.4->tokenizers) (6.0.2)\n",
            "Requirement already satisfied: requests in /usr/local/lib/python3.11/dist-packages (from huggingface-hub<1.0,>=0.16.4->tokenizers) (2.32.3)\n",
            "Requirement already satisfied: tqdm>=4.42.1 in /usr/local/lib/python3.11/dist-packages (from huggingface-hub<1.0,>=0.16.4->tokenizers) (4.67.1)\n",
            "Requirement already satisfied: typing-extensions>=3.7.4.3 in /usr/local/lib/python3.11/dist-packages (from huggingface-hub<1.0,>=0.16.4->tokenizers) (4.13.2)\n",
            "Requirement already satisfied: charset-normalizer<4,>=2 in /usr/local/lib/python3.11/dist-packages (from requests->huggingface-hub<1.0,>=0.16.4->tokenizers) (3.4.2)\n",
            "Requirement already satisfied: idna<4,>=2.5 in /usr/local/lib/python3.11/dist-packages (from requests->huggingface-hub<1.0,>=0.16.4->tokenizers) (3.10)\n",
            "Requirement already satisfied: urllib3<3,>=1.21.1 in /usr/local/lib/python3.11/dist-packages (from requests->huggingface-hub<1.0,>=0.16.4->tokenizers) (2.4.0)\n",
            "Requirement already satisfied: certifi>=2017.4.17 in /usr/local/lib/python3.11/dist-packages (from requests->huggingface-hub<1.0,>=0.16.4->tokenizers) (2025.4.26)\n"
          ]
        }
      ],
      "source": [
        "!pip install tokenizers\n"
      ]
    },
    {
      "cell_type": "code",
      "execution_count": null,
      "metadata": {
        "id": "h7lSe_US9P88"
      },
      "outputs": [],
      "source": [
        "with open(\"train.txt\", \"w\", encoding=\"utf-8\") as f:\n",
        "    for doc in docs:\n",
        "        f.write(doc.strip() + \"\\n\")\n"
      ]
    },
    {
      "cell_type": "code",
      "execution_count": null,
      "metadata": {
        "colab": {
          "base_uri": "https://localhost:8080/"
        },
        "id": "p-Z-Ch7ejVHa",
        "outputId": "41254da2-d395-4791-aa0e-edddf511c225"
      },
      "outputs": [
        {
          "name": "stdout",
          "output_type": "stream",
          "text": [
            "✅ Đã train xong và lưu tokenizer tại custom_tokenizer.json\n"
          ]
        }
      ],
      "source": [
        "# Step 5: Train 1 pbe Tokenizer --> Tokenizer\n",
        "#https://huggingface.co/learn/llm-course/chapter6/5?fw=pt\n",
        "from tokenizers import Tokenizer\n",
        "from tokenizers.models import BPE\n",
        "from tokenizers.trainers import BpeTrainer\n",
        "from tokenizers.pre_tokenizers import Whitespace\n",
        "\n",
        "# Khởi tạo tokenizer rỗng\n",
        "tokenizer = Tokenizer(BPE(unk_token=\"[UNK]\"))\n",
        "\n",
        "# Cấu hình huấn luyện\n",
        "trainer = BpeTrainer(\n",
        "    vocab_size=8000,\n",
        "    min_frequency=2,\n",
        "    special_tokens=[\"[PAD]\", \"[UNK]\", \"[CLS]\", \"[SEP]\", \"[MASK]\"]\n",
        ")\n",
        "\n",
        "# Cài đặt pre-tokenizer (tách theo khoảng trắng)\n",
        "tokenizer.pre_tokenizer = Whitespace()\n",
        "\n",
        "# Huấn luyện tokenizer từ file\n",
        "tokenizer.train([\"train.txt\"], trainer)\n",
        "\n",
        "# Lưu tokenizer\n",
        "tokenizer.save(\"custom_tokenizer.json\")\n",
        "\n",
        "print(\"✅ Đã train xong và lưu tokenizer tại custom_tokenizer.json\")\n"
      ]
    },
    {
      "cell_type": "code",
      "execution_count": null,
      "metadata": {
        "colab": {
          "base_uri": "https://localhost:8080/"
        },
        "id": "Bx5aAqdYjhtC",
        "outputId": "5cd1c010-3e96-4562-85d4-3eba0bb9d526"
      },
      "outputs": [
        {
          "name": "stdout",
          "output_type": "stream",
          "text": [
            "Văn bản gốc: Việt Nam là một quốc gia đang phát triển.\n",
            "Tokenized: ['Việt', 'N', 'am', 'là', 'một', 'quốc', 'gia', 'đang', 'phát', 'triển', '.']\n"
          ]
        }
      ],
      "source": [
        "# Step 6: Viết hàm tokenize(text, BPETokenizer) --> list[token]\n",
        "# BƯỚC 1: Import thư viện cần thiết\n",
        "from tokenizers import Tokenizer\n",
        "\n",
        "# BƯỚC 2: Load tokenizer đã huấn luyện từ file .json\n",
        "BPETokenizer = Tokenizer.from_file(\"custom_tokenizer.json\")\n",
        "\n",
        "# BƯỚC 3: Viết hàm tokenize\n",
        "def tokenize(text, BPETokenizer):\n",
        "    \"\"\"\n",
        "    Hàm chuyển văn bản thành danh sách token bằng BPE Tokenizer.\n",
        "\n",
        "    Parameters:\n",
        "        text (str): đoạn văn bản đầu vào\n",
        "        BPETokenizer (Tokenizer): tokenizer đã được huấn luyện\n",
        "\n",
        "    Returns:\n",
        "        List[str]: danh sách tokens\n",
        "    \"\"\"\n",
        "    encoding = BPETokenizer.encode(text)\n",
        "    return encoding.tokens\n",
        "\n",
        "# BƯỚC 4: Thử nghiệm với một văn bản\n",
        "sample_text = \"Việt Nam là một quốc gia đang phát triển.\"\n",
        "tokens = tokenize(sample_text, BPETokenizer)\n",
        "\n",
        "print(\"Văn bản gốc:\", sample_text)\n",
        "print(\"Tokenized:\", tokens)\n",
        "\n"
      ]
    }
  ],
  "metadata": {
    "colab": {
      "provenance": []
    },
    "kernelspec": {
      "display_name": "Python 3",
      "language": "python",
      "name": "python3"
    },
    "language_info": {
      "codemirror_mode": {
        "name": "ipython",
        "version": 3
      },
      "file_extension": ".py",
      "mimetype": "text/x-python",
      "name": "python",
      "nbconvert_exporter": "python",
      "pygments_lexer": "ipython3",
      "version": "3.13.3"
    }
  },
  "nbformat": 4,
  "nbformat_minor": 0
}
