{
  "nbformat": 4,
  "nbformat_minor": 0,
  "metadata": {
    "colab": {
      "provenance": []
    },
    "kernelspec": {
      "name": "python3",
      "display_name": "Python 3 (ipykernel)",
      "language": "python"
    },
    "language_info": {
      "name": "python"
    }
  },
  "cells": [
    {
      "cell_type": "code",
      "source": [
        "!pip install beautifulsoup4 requests\n",
        "!pip install underthesea\n"
      ],
      "metadata": {
        "colab": {
          "base_uri": "https://localhost:8080/"
        },
        "id": "O3j9ea53lOOf",
        "outputId": "6d9f81d7-4fab-4433-de25-ce8c366c8e95",
        "ExecuteTime": {
          "end_time": "2025-05-09T08:09:20.071616Z",
          "start_time": "2025-05-09T08:09:16.915574Z"
        },
        "collapsed": true
      },
      "outputs": [
        {
          "output_type": "stream",
          "name": "stdout",
          "text": [
            "Requirement already satisfied: beautifulsoup4 in /usr/local/lib/python3.11/dist-packages (4.13.4)\n",
            "Requirement already satisfied: requests in /usr/local/lib/python3.11/dist-packages (2.32.3)\n",
            "Requirement already satisfied: soupsieve>1.2 in /usr/local/lib/python3.11/dist-packages (from beautifulsoup4) (2.7)\n",
            "Requirement already satisfied: typing-extensions>=4.0.0 in /usr/local/lib/python3.11/dist-packages (from beautifulsoup4) (4.13.2)\n",
            "Requirement already satisfied: charset-normalizer<4,>=2 in /usr/local/lib/python3.11/dist-packages (from requests) (3.4.2)\n",
            "Requirement already satisfied: idna<4,>=2.5 in /usr/local/lib/python3.11/dist-packages (from requests) (3.10)\n",
            "Requirement already satisfied: urllib3<3,>=1.21.1 in /usr/local/lib/python3.11/dist-packages (from requests) (2.4.0)\n",
            "Requirement already satisfied: certifi>=2017.4.17 in /usr/local/lib/python3.11/dist-packages (from requests) (2025.4.26)\n",
            "Collecting underthesea\n",
            "  Downloading underthesea-6.8.4-py3-none-any.whl.metadata (15 kB)\n",
            "Requirement already satisfied: Click>=6.0 in /usr/local/lib/python3.11/dist-packages (from underthesea) (8.2.0)\n",
            "Collecting python-crfsuite>=0.9.6 (from underthesea)\n",
            "  Downloading python_crfsuite-0.9.11-cp311-cp311-manylinux_2_17_x86_64.manylinux2014_x86_64.whl.metadata (4.3 kB)\n",
            "Requirement already satisfied: nltk in /usr/local/lib/python3.11/dist-packages (from underthesea) (3.9.1)\n",
            "Requirement already satisfied: tqdm in /usr/local/lib/python3.11/dist-packages (from underthesea) (4.67.1)\n",
            "Requirement already satisfied: requests in /usr/local/lib/python3.11/dist-packages (from underthesea) (2.32.3)\n",
            "Requirement already satisfied: joblib in /usr/local/lib/python3.11/dist-packages (from underthesea) (1.5.0)\n",
            "Requirement already satisfied: scikit-learn in /usr/local/lib/python3.11/dist-packages (from underthesea) (1.6.1)\n",
            "Requirement already satisfied: PyYAML in /usr/local/lib/python3.11/dist-packages (from underthesea) (6.0.2)\n",
            "Collecting underthesea-core==1.0.4 (from underthesea)\n",
            "  Downloading underthesea_core-1.0.4-cp311-cp311-manylinux2010_x86_64.whl.metadata (1.7 kB)\n",
            "Requirement already satisfied: regex>=2021.8.3 in /usr/local/lib/python3.11/dist-packages (from nltk->underthesea) (2024.11.6)\n",
            "Requirement already satisfied: charset-normalizer<4,>=2 in /usr/local/lib/python3.11/dist-packages (from requests->underthesea) (3.4.2)\n",
            "Requirement already satisfied: idna<4,>=2.5 in /usr/local/lib/python3.11/dist-packages (from requests->underthesea) (3.10)\n",
            "Requirement already satisfied: urllib3<3,>=1.21.1 in /usr/local/lib/python3.11/dist-packages (from requests->underthesea) (2.4.0)\n",
            "Requirement already satisfied: certifi>=2017.4.17 in /usr/local/lib/python3.11/dist-packages (from requests->underthesea) (2025.4.26)\n",
            "Requirement already satisfied: numpy>=1.19.5 in /usr/local/lib/python3.11/dist-packages (from scikit-learn->underthesea) (2.0.2)\n",
            "Requirement already satisfied: scipy>=1.6.0 in /usr/local/lib/python3.11/dist-packages (from scikit-learn->underthesea) (1.15.3)\n",
            "Requirement already satisfied: threadpoolctl>=3.1.0 in /usr/local/lib/python3.11/dist-packages (from scikit-learn->underthesea) (3.6.0)\n",
            "Downloading underthesea-6.8.4-py3-none-any.whl (20.9 MB)\n",
            "\u001b[2K   \u001b[90m━━━━━━━━━━━━━━━━━━━━━━━━━━━━━━━━━━━━━━━━\u001b[0m \u001b[32m20.9/20.9 MB\u001b[0m \u001b[31m49.1 MB/s\u001b[0m eta \u001b[36m0:00:00\u001b[0m\n",
            "\u001b[?25hDownloading underthesea_core-1.0.4-cp311-cp311-manylinux2010_x86_64.whl (657 kB)\n",
            "\u001b[2K   \u001b[90m━━━━━━━━━━━━━━━━━━━━━━━━━━━━━━━━━━━━━━━━\u001b[0m \u001b[32m657.8/657.8 kB\u001b[0m \u001b[31m30.9 MB/s\u001b[0m eta \u001b[36m0:00:00\u001b[0m\n",
            "\u001b[?25hDownloading python_crfsuite-0.9.11-cp311-cp311-manylinux_2_17_x86_64.manylinux2014_x86_64.whl (1.3 MB)\n",
            "\u001b[2K   \u001b[90m━━━━━━━━━━━━━━━━━━━━━━━━━━━━━━━━━━━━━━━━\u001b[0m \u001b[32m1.3/1.3 MB\u001b[0m \u001b[31m47.1 MB/s\u001b[0m eta \u001b[36m0:00:00\u001b[0m\n",
            "\u001b[?25hInstalling collected packages: underthesea-core, python-crfsuite, underthesea\n",
            "Successfully installed python-crfsuite-0.9.11 underthesea-6.8.4 underthesea-core-1.0.4\n"
          ]
        }
      ],
      "execution_count": null
    },
    {
      "cell_type": "code",
      "metadata": {
        "id": "uEQYMygghX_e",
        "colab": {
          "base_uri": "https://localhost:8080/"
        },
        "collapsed": true,
        "outputId": "2bba4f45-6788-4020-8377-893d12987d23",
        "ExecuteTime": {
          "end_time": "2025-05-09T08:09:56.032602Z",
          "start_time": "2025-05-09T08:09:54.778686Z"
        }
      },
      "source": [
        "import requests\n",
        "from bs4 import BeautifulSoup\n",
        "\n",
        "base_url = \"https://vietnamnet.vn/chinh-tri\"\n",
        "\n",
        "list_link = []\n",
        "# B1: Lấy html content từ base_url\n",
        "response = requests.get(base_url)\n",
        "if response.status_code == 200:\n",
        "  html_content = response.text\n",
        "  soup = BeautifulSoup(html_content, 'html.parser')\n",
        "  # print(soup.prettify())\n",
        "  divs = soup.find_all(\"div\", class_=\"horizontalPost__avt avt-240\")\n",
        "  for div in divs:\n",
        "    a = div.find(\"a\")\n",
        "    link = \"https://vietnamnet.vn\" + a['href']\n",
        "    list_link.append(link)\n",
        "    # print(link)\n",
        "    # print(a['href'])\n",
        "  # print(f\"lengh of element {len(divs)}\")\n",
        "  # print(divs[0].prettify())\n",
        "else:\n",
        "  print(f\"Lỗi {response.status_code}\")\n",
        "\n",
        "list_link"
      ],
      "outputs": [
        {
          "output_type": "execute_result",
          "data": {
            "text/plain": [
              "['https://vietnamnet.vn/nho-mai-hinh-anh-vi-nguyen-thu-quoc-gia-buoc-di-giua-vung-que-ngheo-quang-ngai-2404338.html',\n",
              " 'https://vietnamnet.vn/su-kien-tuyet-voi-ma-tong-thong-phap-noi-voi-chu-tich-nuoc-tran-duc-luong-2404089.html',\n",
              " 'https://vietnamnet.vn/dai-bieu-quoc-hoi-thanh-hoa-lua-dao-vao-tan-nha-lua-me-toi-400-nghin-tien-rac-2404041.html',\n",
              " 'https://vietnamnet.vn/thu-tuong-no-luc-dam-phan-de-som-dat-thoa-thuan-voi-my-2404383.html',\n",
              " 'https://vietnamnet.vn/nhung-loi-tiec-thuong-sau-sac-trong-so-tang-nguyen-chu-tich-nuoc-tran-duc-luong-2404295.html',\n",
              " 'https://vietnamnet.vn/cho-phep-mua-ban-du-lieu-ca-nhan-la-cho-phep-mua-ban-quyen-con-nguoi-2404374.html',\n",
              " 'https://vietnamnet.vn/cac-toa-nha-dong-loat-treo-co-ru-tuong-niem-nguyen-chu-tich-nuoc-tran-duc-luong-2404342.html',\n",
              " 'https://vietnamnet.vn/de-xuat-quy-dinh-trinh-tu-thu-tuc-bat-nguoi-trong-truong-hop-khan-cap-de-dan-do-2404312.html',\n",
              " 'https://vietnamnet.vn/tong-cong-trinh-su-ve-vu-khi-co-the-nhan-luong-hon-200-trieu-moi-thang-2404216.html',\n",
              " 'https://vietnamnet.vn/bo-noi-vu-can-som-tham-muu-de-55-tri-thuc-tre-khong-bi-tinh-gian-khi-sap-nhap-xa-2403939.html',\n",
              " 'https://vietnamnet.vn/bai-viet-cua-thu-tuong-pham-minh-chinh-ve-nguyen-chu-tich-nuoc-tran-duc-luong-2404323.html',\n",
              " 'https://vietnamnet.vn/diem-dac-biet-cua-bi-thu-chu-tich-3-tinh-lam-dong-binh-thuan-va-dak-nong-2401930.html',\n",
              " 'https://vietnamnet.vn/khong-mang-vong-hoa-khi-vieng-nguyen-chu-tich-nuoc-tran-duc-luong-o-quang-ngai-2404203.html',\n",
              " 'https://vietnamnet.vn/quoc-hoi-se-chat-van-bo-truong-tai-chinh-bo-giao-duc-va-dao-tao-2404244.html',\n",
              " 'https://vietnamnet.vn/chu-tich-nuoc-tran-duc-luong-ve-tham-que-don-gian-the-2403863.html',\n",
              " 'https://vietnamnet.vn/nho-ngay-anh-tran-duc-luong-goi-toi-sang-lam-tro-ly-2403977.html',\n",
              " 'https://vietnamnet.vn/thu-tuong-pham-minh-chinh-va-phu-nhan-sap-tham-malaysia-2404240.html',\n",
              " 'https://vietnamnet.vn/ong-ngo-van-cuong-lam-pho-bi-thu-chuyen-trach-dang-uy-mttq-cac-doan-the-tu-2404056.html',\n",
              " 'https://vietnamnet.vn/tong-thong-hungary-va-phu-nhan-sap-tham-viet-nam-2404112.html',\n",
              " 'https://vietnamnet.vn/dia-ban-rong-hon-khi-sap-nhap-tinh-xa-thi-quan-ly-day-them-hoc-them-the-nao-2404084.html',\n",
              " 'https://vietnamnet.vn/bo-chinh-tri-quy-dinh-ve-thu-hoi-tai-san-tham-nhung-lang-phi-tieu-cuc-2404080.html',\n",
              " 'https://vietnamnet.vn/thu-tuong-chap-nhan-su-mat-mat-coi-do-la-hoc-phi-2404043.html',\n",
              " 'https://vietnamnet.vn/moi-thay-bong-dang-doan-kiem-tra-ca-cho-hang-gia-da-dong-loat-dong-cua-2404046.html',\n",
              " 'https://vietnamnet.vn/thu-truong-noi-vu-lam-chu-tich-hoi-dong-tien-luong-quoc-gia-2404068.html',\n",
              " 'https://vietnamnet.vn/mien-que-am-ap-hoi-uc-ve-chuyen-cong-tac-cung-chu-tich-nuoc-tran-duc-luong-2403824.html']"
            ]
          },
          "metadata": {},
          "execution_count": 2
        }
      ],
      "execution_count": null
    },
    {
      "cell_type": "code",
      "source": [
        "import requests\n",
        "from bs4 import BeautifulSoup\n",
        "\n",
        "def get_content(link: str):\n",
        "    # B1: Gửi yêu cầu HTTP và lấy HTML\n",
        "    response = requests.get(link)\n",
        "    html = response.text\n",
        "\n",
        "    # B2: Tạo đối tượng BeautifulSoup để phân tích HTML\n",
        "    soup = BeautifulSoup(html, 'html.parser')\n",
        "\n",
        "    # B3: Lấy tiêu đề bài viết\n",
        "    title_tag = soup.find('h1', class_=\"content-detail-title\")\n",
        "    title = title_tag.get_text(strip=True) if title_tag else \"No title found\"\n",
        "\n",
        "    # B4: Lấy nội dung bài viết trong thẻ div có id=\"maincontent\"\n",
        "    content_div = soup.find('div', id='maincontent')\n",
        "\n",
        "    # B4.1: Trích xuất tất cả các thẻ <p> trong thẻ div trên\n",
        "    paragraphs = content_div.find_all('p') if content_div else []\n",
        "\n",
        "    # B4.2: Nối nội dung các thẻ <p> lại thành một chuỗi\n",
        "    contents = [p.get_text(strip=True) for p in paragraphs]\n",
        "    content = '\\n'.join(contents)\n",
        "\n",
        "    # B5: Trả về tiêu đề và nội dung\n",
        "    return title, content\n",
        "\n",
        "# Ví dụ:\n",
        "# title, content = get_content(list_link[0])\n",
        "# print(\"Tiêu đề:\", title)\n",
        "# print(\"Nội dung:\", content)\n",
        "\n",
        "\n",
        "\n",
        "get_content(list_link[0])\n",
        "\n"
      ],
      "metadata": {
        "id": "kjAhp68Zh2Pt",
        "ExecuteTime": {
          "end_time": "2025-05-09T08:04:47.092817Z",
          "start_time": "2025-05-09T08:04:44.692074Z"
        },
        "colab": {
          "base_uri": "https://localhost:8080/"
        },
        "outputId": "0e8fb2e3-1749-417a-c3db-73dc08add378"
      },
      "outputs": [
        {
          "output_type": "execute_result",
          "data": {
            "text/plain": [
              "('Nhớ mãi hình ảnh vị nguyên thủ quốc gia bước đi giữa vùng quê nghèo Quảng Ngãi',\n",
              " 'Nguyên Chủ tịch nước Trần Đức Lương sinh năm 1937, tại xã Phổ Khánh (nay thuộc thị xã Đức Phổ, tỉnh Quảng Ngãi) - một vùng đất giàu truyền thống cách mạng.\\nTừ một cán bộ địa chất, ông từng bước đảm nhiệm nhiều cương vị quan trọng, trở thành Phó Thủ tướng rồi Chủ tịch nước ở giai đoạn đất nước chuyển mình mạnh mẽ trong công cuộc đổi mới và hội nhập.\\nLuôn gần gũi và lo cho dân\\nTrên cương vị cao nhất của nhà nước, ông vẫn giữ vẹn nguyên sự khiêm nhường, gần gũi. Những lần trở về quê hương, ông không xuất hiện với vẻ ngoài của một nguyên thủ mà là hình ảnh của người con xa quê luôn đau đáu với đất mẹ, lặng lẽ sẻ chia với bà con những điều giản dị mà thấu đáo, chân thành.\\nNăm 1995, khi về thăm quê trong cương vị Phó Thủ tướng, biết vợ chồng thương binh Phạm Văn Nuôi ở thôn Diên Trường (xã Phổ Khánh) đang chật vật vì không có nhà ở, ông lập tức chỉ đạo các cấp hỗ trợ xây nhà tình nghĩa.\\nChỉ một năm sau, ngôi nhà nhỏ được dựng lên từ số tiền 15 triệu đồng. Với vợ chồng ông Nuôi, đây không chỉ là mái ấm mà là kỷ niệm không quên về tấm lòng của một người lãnh đạo biết lắng nghe và hành động vì dân.\\n“Nhờ sự quan tâm, chỉ đạo của bác Trần Đức Lương mà gia đình tôi đã có được ngôi nhà khang trang, vững chắc để sinh sống” - ông Nuôi tâm sự.\\nNăm 2021, khi tuổi đã cao, nguyên Chủ tịch nước Trần Đức Lương không còn về quê thường xuyên được, nhưng tấm lòng ông vẫn hướng về đất mẹ. Gia đình ông đã trao tặng 500 triệu đồng để xây 10 căn nhà tình nghĩa, đồng thời vận động thêm 500 triệu đồng từ doanh nghiệp cho công việc này. Với những hộ gia đình chính sách, đó là món quà không chỉ mang giá trị vật chất mà còn là sự an ủi lớn lao.\\nBà Nguyễn Thị Thu là thương binh 4/4 nghẹn ngào kể:“Hồi đó, nhà tôi cũ nát, mưa là dột, gió là lo. Nhờ gia đình nguyên Chủ tịch nước Trần Đức Lương hỗ trợ mà vợ chồng tôi có nhà mới kiên cố, yên tâm sống qua mùa bão. Tôi mang ơn cả đời”.\\nKhông chỉ ở Phổ Khánh, người dân thôn Gò Ra (xã Sơn Thành, huyện Sơn Hà) - nơi phần lớn là đồng bào dân tộc thiểu số - vẫn nhắc mãi chuyến thăm của vị nguyên thủ quốc gia vào năm 2003. Họ nhớ mãi hình ảnh ông bước đi giữa vùng quê nghèo, bắt tay từng người, hỏi han từng chuyện nhỏ. Với bà con, đó không đơn thuần là một chuyến công tác mà là sự hiện diện của tình thương, của niềm tin vào sự đổi thay.\\nÔng Đinh Văn Hời - nguyên Bí thư, Chủ tịch xã Sơn Thành - vẫn nhớ như in ngày \"bác Trần Đức Lương\" đến với vùng đất còn nhiều gian khó.\\n“Bác đến nơi xa xôi, đường sá khi đó còn khó khăn lắm. Bác Lương giản dị và gần gũi, hỏi bà con ăn ở ra sao, sống có đủ no ấm không…” - ông Hời xúc động kể.\\n\"Khi hay tin bác từ trần, người dân nơi đây không giấu được sự tiếc thương. Bác là người luôn trăn trở với cuộc sống đồng bào vùng sâu, vùng xa. Bác từng chỉ đạo phải quan tâm giúp người dân thoát nghèo. Những tình cảm ấy, chúng tôi không bao giờ quên” - ông Hời nghẹn ngào nói.\\nNgười lãnh đạo tận tụy, khiêm nhường\\nNhững năm gần đây, mỗi khi về quê vào dịp Tết, ông Trần Đức Lương vẫn chúc Tết Đảng bộ, thăm hỏi bà con. Ông luôn căn dặn lãnh đạo địa phương phải gần dân, sát dân, giữ lấy gốc rễ truyền thống.\\nBí thư Thị ủy Đức Phổ Đỗ Tâm Hiển cho biết: “Khi hay tin nguyên Chủ tịch nước Trần Đức Lương từ trần, bà con địa phương vô cùng đau buồn. Ông không chỉ là niềm tự hào của quê hương, mà còn là người luôn dõi theo, giúp đỡ chúng tôi trong mọi chặng đường phát triển”.\\nLặng lẽ đến viếng tang nguyên Chủ tịch nước Trần Đức Lương tại Nhà khách T50, Bộ Chỉ huy Quân sự tỉnh Quảng Ngãi, ông Phạm Đình Khối - nguyên Bí thư Tỉnh ủy Quảng Ngãi - xúc động kể: \"Mỗi lần bác Trần Đức Lương trở về Quảng Ngãi đều để lại một dấu ấn sâu sắc. Đó không chỉ là tình cảm gắn bó với quê hương, mà còn là trách nhiệm, là những lời dặn dò về con đường phát triển kinh tế - xã hội của tỉnh, đặc biệt nhấn mạnh đến việc phát huy truyền thống đoàn kết trong Đảng bộ và nhân dân\".\\n“Bác Lương luôn cụ thể trong từng chuyến đi, từng cuộc làm việc. Trong phát triển kinh tế, bác dặn phải chú trọng công tác quy hoạch, quan tâm môi trường, và nhất là đời sống người dân. Những điều bác nói đều có tính chiến lược và sát thực tiễn.\\nKhông chỉ tôi, mà nhiều thế hệ cán bộ lãnh đạo của tỉnh, cả những người đã nghỉ hưu lẫn đương nhiệm đều luôn nhắc đến bác với sự trân quý, tự hào. Với chúng tôi, bác như một tấm gương để soi chiếu lại mình, để sống và cống hiến cho quê hương” - ông Khối chia sẻ.\\nVới người dân Quảng Ngãi, dù nguyên Chủ tịch nước Trần Đức Lương đã yên nghỉ nhưng hình ảnh của ông - một người lãnh đạo tận tụy, khiêm nhường, gần dân vẫn còn mãi.')"
            ]
          },
          "metadata": {},
          "execution_count": 3
        }
      ],
      "execution_count": null
    },
    {
      "cell_type": "code",
      "source": [
        "# Step 2.2: Làm sạch dữ liệu: cleaning(text) --> text\n",
        "# - Xoá ký tự đặc biệt\n",
        "# - Xoá khoảng trắng thừa\n",
        "# - Viết hoa đầu câu, các ký tự khác viết thường hoàn toàn (Dự trên sentence tokenize)\n",
        "# usage\n",
        "import re\n",
        "from underthesea import sent_tokenize\n",
        "\n",
        "def cleaning(text):\n",
        "    # Bước 1: Xoá ký tự đặc biệt (chỉ giữ chữ cái, số, dấu câu)\n",
        "    text = re.sub(r\"[^a-zA-Z0-9À-ỹàáạảãăắằẳẵặâấầẩẫậèéẹẻẽêếềểễệ\"\n",
        "                  r\"ìíịỉĩòóọỏõôốồổỗộơớờởỡợùúụủũưứừửữựỳýỵỷỹ\"\n",
        "                  r\"đĐ\\s.!?]\", \" \", text)\n",
        "\n",
        "    # Bước 2: Xoá khoảng trắng thừa\n",
        "    text = re.sub(r'\\s+', ' ', text).strip()\n",
        "\n",
        "    # Bước 3: Tách câu & viết hoa đầu câu, phần còn lại viết thường\n",
        "    sentences = sent_tokenize(text)\n",
        "    cleaned_sentences = []\n",
        "    for s in sentences:\n",
        "        s = s.strip().lower()\n",
        "        if s:\n",
        "            s = s[0].upper() + s[1:]\n",
        "            cleaned_sentences.append(s)\n",
        "    return ' '.join(cleaned_sentences)\n",
        "\n",
        "\n"
      ],
      "metadata": {
        "id": "Z9ONSVZmh92Z"
      },
      "execution_count": null,
      "outputs": []
    },
    {
      "cell_type": "code",
      "source": [
        "import pandas as pd\n",
        "import time\n",
        "\n",
        "data = []\n",
        "\n",
        "for url in list_link:\n",
        "    try:\n",
        "        title, content = get_content(url)\n",
        "        if title and content:\n",
        "            content_clean = cleaning(content)\n",
        "            data.append({\n",
        "                'title': title,\n",
        "                'content': content_clean,\n",
        "                'url': url\n",
        "            })\n",
        "            print(f\"✓ Lấy xong: {title}\")\n",
        "        time.sleep(0.5)  # nghỉ một chút tránh bị chặn\n",
        "    except Exception as e:\n",
        "        print(f\"✗ Lỗi ở link: {url} | {e}\")\n",
        "\n",
        "# Chuyển về DataFrame\n",
        "df = pd.DataFrame(data)\n",
        "\n",
        "# Lưu ra file corpus.csv\n",
        "df.to_csv('corpus.csv', index=False, encoding='utf-8-sig')\n",
        "\n",
        "print(f\"\\n✅ Đã lưu {len(df)} bài viết vào file corpus.csv\")\n"
      ],
      "metadata": {
        "id": "lbqA56bLi0J5",
        "colab": {
          "base_uri": "https://localhost:8080/"
        },
        "collapsed": true,
        "outputId": "10fbfad8-7643-42e8-9576-2c73edf473dd"
      },
      "execution_count": null,
      "outputs": [
        {
          "output_type": "stream",
          "name": "stdout",
          "text": [
            "✓ Lấy xong: Nhớ mãi hình ảnh vị nguyên thủ quốc gia bước đi giữa vùng quê nghèo Quảng Ngãi\n",
            "✓ Lấy xong: Nguyên Chủ tịch nước Trần Đức Lương và sự kiện 'tuyệt vời' của Tổng thống Chirac\n",
            "✓ Lấy xong: Đại biểu Quốc hội Thanh Hóa: Lừa đảo vào tận nhà, lừa mẹ tôi 400 nghìn tiền rác\n",
            "✓ Lấy xong: Thủ tướng: Nỗ lực đàm phán để sớm đạt thỏa thuận với Mỹ\n",
            "✓ Lấy xong: Những lời tiếc thương sâu sắc trong sổ tang nguyên Chủ tịch nước Trần Đức Lương\n",
            "✓ Lấy xong: Bộ trưởng Công an: Cho phép mua bán dữ liệu cá nhân là cho phép mua bán quyền con người\n",
            "✓ Lấy xong: Đề xuất quy định trình tự, thủ tục bắt người trong trường hợp khẩn cấp để dẫn độ\n",
            "✓ Lấy xong: Tổng công trình sư về vũ khí có thể nhận lương hơn 200 triệu mỗi tháng\n",
            "✓ Lấy xong: Bộ Nội vụ cần sớm tham mưu để 55 trí thức trẻ không bị tinh giản khi sáp nhập xã\n",
            "✓ Lấy xong: Bài viết của Thủ tướng Phạm Minh Chính về nguyên Chủ tịch nước Trần Đức Lương\n",
            "✓ Lấy xong: Điểm đặc biệt của Bí thư, Chủ tịch 3 tỉnh Lâm Đồng, Bình Thuận và Đắk Nông\n",
            "✓ Lấy xong: Không mang vòng hoa khi viếng nguyên Chủ tịch nước Trần Đức Lương ở Quảng Ngãi\n",
            "✓ Lấy xong: Quốc hội sẽ chất vấn Bộ trưởng Tài chính, Bộ Giáo dục và Đào tạo\n",
            "✓ Lấy xong: 'Chủ tịch nước Trần Đức Lương về thăm quê đơn giản thế?'\n",
            "✓ Lấy xong: 'Nhớ ngày anh Trần Đức Lương gọi tôi sang làm trợ lý'\n",
            "✓ Lấy xong: Thủ tướng Phạm Minh Chính và Phu nhân sắp thăm Malaysia\n",
            "✓ Lấy xong: Ông Ngô Văn Cương làm Phó Bí thư chuyên trách Đảng ủy MTTQ, các đoàn thể TƯ\n",
            "✓ Lấy xong: Tổng thống Hungary và Phu nhân sắp thăm Việt Nam\n",
            "✓ Lấy xong: Địa bàn rộng hơn khi sáp nhập tỉnh, xã thì quản lý dạy thêm, học thêm thế nào?\n",
            "✓ Lấy xong: Bộ Chính trị quy định về thu hồi tài sản tham nhũng, lãng phí, tiêu cực\n",
            "✓ Lấy xong: Thủ tướng: Chấp nhận sự mất mát, coi đó là học phí\n",
            "✓ Lấy xong: Mới thấy 'bóng dáng' đoàn kiểm tra, cả chợ hàng giả đã đồng loạt đóng cửa\n",
            "✓ Lấy xong: Thứ trưởng Nội vụ làm Chủ tịch Hội đồng tiền lương quốc gia\n",
            "\n",
            "✅ Đã lưu 23 bài viết vào file corpus.csv\n"
          ]
        }
      ]
    },
    {
      "cell_type": "code",
      "source": [
        "# Step 4: Load lại file copus.csv\n",
        "# nối title và content của từng bài thành 1 biến doc\n",
        "# thu được 1 list tên là docs = [doc1, doc2,...]\n",
        "\n",
        "import pandas as pd\n",
        "\n",
        "# Load file corpus.csv\n",
        "df = pd.read_csv('corpus.csv', encoding='utf-8-sig')\n",
        "\n",
        "# Nối title và content thành 1 biến doc cho mỗi dòng\n",
        "df['doc'] = df['title'] + '. ' + df['content']\n",
        "\n",
        "# Tạo danh sách docs\n",
        "docs = df['doc'].tolist()\n",
        "\n",
        "print(f\"Đã tạo danh sách docs với {len(docs)} tài liệu.\")\n",
        "# In ra ví dụ 1 doc đầu tiên\n",
        "print(docs[0][:500])  # in 500 ký tự đầu để xem\n"
      ],
      "metadata": {
        "id": "d3UP-1pgjB6y",
        "colab": {
          "base_uri": "https://localhost:8080/"
        },
        "outputId": "5351685c-32b3-4dab-c84b-16b18f01310c"
      },
      "execution_count": null,
      "outputs": [
        {
          "output_type": "stream",
          "name": "stdout",
          "text": [
            "Đã tạo danh sách docs với 23 tài liệu.\n",
            "Nhớ mãi hình ảnh vị nguyên thủ quốc gia bước đi giữa vùng quê nghèo Quảng Ngãi. Nguyên chủ tịch nước trần đức lương sinh năm 1937 tại xã phổ khánh nay thuộc thị xã đức phổ tỉnh quảng ngãi một vùng đất giàu truyền thống cách mạng. Từ một cán bộ địa chất ông từng bước đảm nhiệm nhiều cương vị quan trọng trở thành phó thủ tướng rồi chủ tịch nước ở giai đoạn đất nước chuyển mình mạnh mẽ trong công cuộc đổi mới và hội nhập. Luôn gần gũi và lo cho dân trên cương vị cao nhất của nhà nước ông vẫn giữ vẹ\n"
          ]
        }
      ]
    },
    {
      "cell_type": "code",
      "source": [
        "!pip install tokenizers\n"
      ],
      "metadata": {
        "collapsed": true,
        "colab": {
          "base_uri": "https://localhost:8080/"
        },
        "id": "UE4Bm7oD9LzH",
        "outputId": "9a40c077-ea82-410f-e05b-471abdedffcd"
      },
      "execution_count": null,
      "outputs": [
        {
          "output_type": "stream",
          "name": "stdout",
          "text": [
            "Requirement already satisfied: tokenizers in /usr/local/lib/python3.11/dist-packages (0.21.1)\n",
            "Requirement already satisfied: huggingface-hub<1.0,>=0.16.4 in /usr/local/lib/python3.11/dist-packages (from tokenizers) (0.31.2)\n",
            "Requirement already satisfied: filelock in /usr/local/lib/python3.11/dist-packages (from huggingface-hub<1.0,>=0.16.4->tokenizers) (3.18.0)\n",
            "Requirement already satisfied: fsspec>=2023.5.0 in /usr/local/lib/python3.11/dist-packages (from huggingface-hub<1.0,>=0.16.4->tokenizers) (2025.3.2)\n",
            "Requirement already satisfied: packaging>=20.9 in /usr/local/lib/python3.11/dist-packages (from huggingface-hub<1.0,>=0.16.4->tokenizers) (24.2)\n",
            "Requirement already satisfied: pyyaml>=5.1 in /usr/local/lib/python3.11/dist-packages (from huggingface-hub<1.0,>=0.16.4->tokenizers) (6.0.2)\n",
            "Requirement already satisfied: requests in /usr/local/lib/python3.11/dist-packages (from huggingface-hub<1.0,>=0.16.4->tokenizers) (2.32.3)\n",
            "Requirement already satisfied: tqdm>=4.42.1 in /usr/local/lib/python3.11/dist-packages (from huggingface-hub<1.0,>=0.16.4->tokenizers) (4.67.1)\n",
            "Requirement already satisfied: typing-extensions>=3.7.4.3 in /usr/local/lib/python3.11/dist-packages (from huggingface-hub<1.0,>=0.16.4->tokenizers) (4.13.2)\n",
            "Requirement already satisfied: charset-normalizer<4,>=2 in /usr/local/lib/python3.11/dist-packages (from requests->huggingface-hub<1.0,>=0.16.4->tokenizers) (3.4.2)\n",
            "Requirement already satisfied: idna<4,>=2.5 in /usr/local/lib/python3.11/dist-packages (from requests->huggingface-hub<1.0,>=0.16.4->tokenizers) (3.10)\n",
            "Requirement already satisfied: urllib3<3,>=1.21.1 in /usr/local/lib/python3.11/dist-packages (from requests->huggingface-hub<1.0,>=0.16.4->tokenizers) (2.4.0)\n",
            "Requirement already satisfied: certifi>=2017.4.17 in /usr/local/lib/python3.11/dist-packages (from requests->huggingface-hub<1.0,>=0.16.4->tokenizers) (2025.4.26)\n"
          ]
        }
      ]
    },
    {
      "cell_type": "code",
      "source": [
        "with open(\"train.txt\", \"w\", encoding=\"utf-8\") as f:\n",
        "    for doc in docs:\n",
        "        f.write(doc.strip() + \"\\n\")\n"
      ],
      "metadata": {
        "id": "h7lSe_US9P88"
      },
      "execution_count": null,
      "outputs": []
    },
    {
      "cell_type": "code",
      "source": [
        "# Step 5: Train 1 pbe Tokenizer --> Tokenizer\n",
        "#https://huggingface.co/learn/llm-course/chapter6/5?fw=pt\n",
        "from tokenizers import Tokenizer\n",
        "from tokenizers.models import BPE\n",
        "from tokenizers.trainers import BpeTrainer\n",
        "from tokenizers.pre_tokenizers import Whitespace\n",
        "\n",
        "# Khởi tạo tokenizer rỗng\n",
        "tokenizer = Tokenizer(BPE(unk_token=\"[UNK]\"))\n",
        "\n",
        "# Cấu hình huấn luyện\n",
        "trainer = BpeTrainer(\n",
        "    vocab_size=8000,\n",
        "    min_frequency=2,\n",
        "    special_tokens=[\"[PAD]\", \"[UNK]\", \"[CLS]\", \"[SEP]\", \"[MASK]\"]\n",
        ")\n",
        "\n",
        "# Cài đặt pre-tokenizer (tách theo khoảng trắng)\n",
        "tokenizer.pre_tokenizer = Whitespace()\n",
        "\n",
        "# Huấn luyện tokenizer từ file\n",
        "tokenizer.train([\"train.txt\"], trainer)\n",
        "\n",
        "# Lưu tokenizer\n",
        "tokenizer.save(\"custom_tokenizer.json\")\n",
        "\n",
        "print(\"✅ Đã train xong và lưu tokenizer tại custom_tokenizer.json\")\n"
      ],
      "metadata": {
        "id": "p-Z-Ch7ejVHa",
        "colab": {
          "base_uri": "https://localhost:8080/"
        },
        "outputId": "41254da2-d395-4791-aa0e-edddf511c225"
      },
      "execution_count": null,
      "outputs": [
        {
          "output_type": "stream",
          "name": "stdout",
          "text": [
            "✅ Đã train xong và lưu tokenizer tại custom_tokenizer.json\n"
          ]
        }
      ]
    },
    {
      "cell_type": "code",
      "source": [
        "# Step 6: Viết hàm tokenize(text, BPETokenizer) --> list[token]\n",
        "# BƯỚC 1: Import thư viện cần thiết\n",
        "from tokenizers import Tokenizer\n",
        "\n",
        "# BƯỚC 2: Load tokenizer đã huấn luyện từ file .json\n",
        "BPETokenizer = Tokenizer.from_file(\"custom_tokenizer.json\")\n",
        "\n",
        "# BƯỚC 3: Viết hàm tokenize\n",
        "def tokenize(text, BPETokenizer):\n",
        "    \"\"\"\n",
        "    Hàm chuyển văn bản thành danh sách token bằng BPE Tokenizer.\n",
        "\n",
        "    Parameters:\n",
        "        text (str): đoạn văn bản đầu vào\n",
        "        BPETokenizer (Tokenizer): tokenizer đã được huấn luyện\n",
        "\n",
        "    Returns:\n",
        "        List[str]: danh sách tokens\n",
        "    \"\"\"\n",
        "    encoding = BPETokenizer.encode(text)\n",
        "    return encoding.tokens\n",
        "\n",
        "# BƯỚC 4: Thử nghiệm với một văn bản\n",
        "sample_text = \"Việt Nam là một quốc gia đang phát triển.\"\n",
        "tokens = tokenize(sample_text, BPETokenizer)\n",
        "\n",
        "print(\"Văn bản gốc:\", sample_text)\n",
        "print(\"Tokenized:\", tokens)\n",
        "\n"
      ],
      "metadata": {
        "id": "Bx5aAqdYjhtC",
        "colab": {
          "base_uri": "https://localhost:8080/"
        },
        "outputId": "5cd1c010-3e96-4562-85d4-3eba0bb9d526"
      },
      "execution_count": null,
      "outputs": [
        {
          "output_type": "stream",
          "name": "stdout",
          "text": [
            "Văn bản gốc: Việt Nam là một quốc gia đang phát triển.\n",
            "Tokenized: ['Việt', 'N', 'am', 'là', 'một', 'quốc', 'gia', 'đang', 'phát', 'triển', '.']\n"
          ]
        }
      ]
    }
  ]
}